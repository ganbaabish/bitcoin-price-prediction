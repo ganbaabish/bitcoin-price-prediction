{
  "nbformat": 4,
  "nbformat_minor": 0,
  "metadata": {
    "colab": {
      "provenance": []
    },
    "kernelspec": {
      "name": "python3",
      "display_name": "Python 3"
    },
    "language_info": {
      "name": "python"
    }
  },
  "cells": [
    {
      "cell_type": "code",
      "source": [
        "import pandas as pd\n",
        "import numpy as np\n",
        "from sklearn.preprocessing import MinMaxScaler\n",
        "from sklearn.metrics import mean_squared_error\n",
        "from tensorflow.keras.models import Sequential\n",
        "from tensorflow.keras.layers import LSTM, Dense\n",
        "from sklearn.ensemble import VotingRegressor\n",
        "from sklearn.tree import DecisionTreeRegressor\n",
        "from sklearn.base import BaseEstimator, RegressorMixin\n",
        "import requests\n",
        "\n",
        "# Define custom LSTM regressor\n",
        "class LSTMRegressor(BaseEstimator, RegressorMixin):\n",
        "    def __init__(self):\n",
        "        self.model = None\n",
        "\n",
        "    def fit(self, X, y):\n",
        "        self.model = Sequential()\n",
        "        self.model.add(LSTM(50, activation='relu', input_shape=(X.shape[1], 1)))\n",
        "        self.model.add(Dense(1))\n",
        "        self.model.compile(optimizer='adam', loss='mse')\n",
        "        self.model.fit(X, y, verbose=0)\n",
        "\n",
        "    def predict(self, X):\n",
        "        return self.model.predict(X).flatten()\n",
        "\n",
        "# Coingecko API parameters\n",
        "cryptocurrency = 'bitcoin'\n",
        "currency = 'usd'\n",
        "url = f'https://api.coingecko.com/api/v3/coins/markets?vs_currency={currency}&ids={cryptocurrency}'\n",
        "\n",
        "# Make API request\n",
        "response = requests.get(url)\n",
        "data = response.json()\n",
        "\n",
        "if len(data) > 0:\n",
        "    open_price = data[0]['current_price']\n",
        "    high_price = data[0]['high_24h']\n",
        "    low_price = data[0]['low_24h']\n",
        "\n",
        "    # Load dataset from CSV\n",
        "    dataset = pd.read_csv('BTC.csv')\n",
        "    X = dataset[['open_price', 'close_price', 'high_price', 'low_price']].values\n",
        "    y = dataset['close_price'].values\n",
        "\n",
        "    scaler = MinMaxScaler(feature_range=(0, 1))\n",
        "    X_scaled = scaler.fit_transform(X)\n",
        "    y_scaled = scaler.fit_transform(y.reshape(-1, 1)).flatten()\n",
        "\n",
        "    lstm_regressor = LSTMRegressor()\n",
        "    tree_model = DecisionTreeRegressor()\n",
        "    ensemble_model = VotingRegressor([('lstm', lstm_regressor), ('tree', tree_model)])\n",
        "\n",
        "    lstm_regressor.fit(X_scaled[:, :2].reshape(X_scaled.shape[0], 2, 1), y_scaled)  # Use only first two columns for LSTM\n",
        "    tree_model.fit(X_scaled[:, :2], y_scaled)  # Use only first two columns for DecisionTreeRegressor\n",
        "\n",
        "    # Fit the ensemble model\n",
        "    ensemble_model.fit(X_scaled[:, :2], y_scaled)  # Use only first two columns for ensemble model\n",
        "\n",
        "    # Prepare input for prediction\n",
        "    new_data = np.array([[open_price, 0, high_price, low_price]])  # Replace 0 with a suitable value for the previous day's closing price\n",
        "    new_data_scaled = np.zeros_like(new_data)\n",
        "    for i in range(new_data.shape[1]):\n",
        "        new_data_scaled[:, i] = scaler.fit_transform(new_data[:, i].reshape(-1, 1)).flatten()\n",
        "\n",
        "    new_data_scaled_reshaped = new_data_scaled[:, :2]  # Use only first two columns for prediction\n",
        "\n",
        "    # Predict closing price using the ensemble model\n",
        "    ensemble_prediction = ensemble_model.predict(new_data_scaled_reshaped.reshape(1, -1))\n",
        "    ensemble_prediction = scaler.inverse_transform(ensemble_prediction.reshape(-1, 1)).flatten()\n",
        "    print(\"Predicted closing price:\", ensemble_prediction)\n",
        "else:\n",
        "    print(\"No data available for the specified cryptocurrency and currency.\")\n"
      ],
      "metadata": {
        "colab": {
          "base_uri": "https://localhost:8080/"
        },
        "id": "D2u5cVYquRFB",
        "outputId": "f112c0ab-61ba-4401-80c4-66c47efe9fff"
      },
      "execution_count": null,
      "outputs": [
        {
          "output_type": "stream",
          "name": "stdout",
          "text": [
            "1/1 [==============================] - 0s 173ms/step\n",
            "Predicted closing price: [26906.99893257]\n"
          ]
        }
      ]
    }
  ]
}